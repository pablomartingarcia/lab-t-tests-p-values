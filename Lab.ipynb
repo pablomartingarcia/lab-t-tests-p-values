{
 "cells": [
  {
   "cell_type": "code",
   "execution_count": 15,
   "id": "f8dd149c",
   "metadata": {},
   "outputs": [
    {
     "name": "stdout",
     "output_type": "stream",
     "text": [
      "There is not enough evidence to show that the new machine is better than the old machine.\n",
      "Mean and standard deviation for the new machine:\n",
      "Mean: 42.14\n",
      "Standard Deviation: 0.6834552736727638\n",
      "\n",
      "Mean and standard deviation for the old machine:\n",
      "Mean: 43.230000000000004\n",
      "Standard Deviation: 0.7498888806572157\n",
      "\n",
      "T-statistic: -3.3972307061176026\n",
      "P-value: 0.9983944287496127\n"
     ]
    }
   ],
   "source": [
    "import pandas as pd\n",
    "from scipy import stats\n",
    "\n",
    "data = {\n",
    "    'New machine': [42.1, 41, 41.3, 41.8, 42.4, 42.8, 43.2, 42.3, 41.8, 42.7],\n",
    "    'Old machine': [42.7, 43.6, 43.8, 43.3, 42.5, 43.5, 43.1, 41.7, 44, 44.1]\n",
    "}\n",
    "\n",
    "df = pd.DataFrame(data)\n",
    "\n",
    "mean_new_machine = df['New machine'].mean()\n",
    "std_new_machine = df['New machine'].std()\n",
    "\n",
    "mean_old_machine = df['Old machine'].mean()\n",
    "std_old_machine = df['Old machine'].std()\n",
    "\n",
    "# One-sided t-test\n",
    "t_stat, p_value = stats.ttest_ind(df['New machine'], df['Old machine'], alternative='greater')\n",
    "\n",
    "# Determine if one machine is better than the other based on p-value\n",
    "alpha = 0.05\n",
    "if p_value < alpha:\n",
    "    print(\"There is sufficient evidence to show that the new machine is better than the old machine.\")\n",
    "else:\n",
    "    print(\"There is not enough evidence to show that the new machine is better than the old machine.\")\n",
    "\n",
    "print(\"Mean and standard deviation for the new machine:\")\n",
    "print(\"Mean:\", mean_new_machine)\n",
    "print(\"Standard Deviation:\", std_new_machine)\n",
    "\n",
    "print(\"\\nMean and standard deviation for the old machine:\")\n",
    "print(\"Mean:\", mean_old_machine)\n",
    "print(\"Standard Deviation:\", std_old_machine)\n",
    "\n",
    "print(\"\\nT-statistic:\", t_stat)\n",
    "print(\"P-value:\", p_value)"
   ]
  },
  {
   "cell_type": "code",
   "execution_count": null,
   "id": "1e71b4f7",
   "metadata": {},
   "outputs": [],
   "source": []
  }
 ],
 "metadata": {
  "kernelspec": {
   "display_name": "Python 3 (ipykernel)",
   "language": "python",
   "name": "python3"
  },
  "language_info": {
   "codemirror_mode": {
    "name": "ipython",
    "version": 3
   },
   "file_extension": ".py",
   "mimetype": "text/x-python",
   "name": "python",
   "nbconvert_exporter": "python",
   "pygments_lexer": "ipython3",
   "version": "3.11.5"
  }
 },
 "nbformat": 4,
 "nbformat_minor": 5
}
